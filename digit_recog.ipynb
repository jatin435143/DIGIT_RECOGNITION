{
 "cells": [
  {
   "cell_type": "markdown",
   "id": "7a2dbda7-dddd-4c1e-87ed-70bc2db81291",
   "metadata": {},
   "source": [
    "### DIGIT RECOGNISER USING NEURAL NETWORK FROM SCRATCH"
   ]
  },
  {
   "cell_type": "code",
   "execution_count": 3,
   "id": "626d2867-3d07-41cd-a16e-e7129de79571",
   "metadata": {},
   "outputs": [],
   "source": [
    "import numpy as np\n",
    "import pandas as pd"
   ]
  },
  {
   "cell_type": "markdown",
   "id": "b8084b73-8c78-413e-b2d2-07c1829439e6",
   "metadata": {},
   "source": [
    "##### IMPORTING DATASETS INTO MY NOTEBOOK AND CONVERTING INTO NUMPY ARRAYS TO GET THEM USED"
   ]
  },
  {
   "cell_type": "code",
   "execution_count": 4,
   "id": "d777329a-d642-4fb6-92a4-771b8f782e77",
   "metadata": {},
   "outputs": [],
   "source": [
    "x_train=pd.read_csv('train_X.csv')\n",
    "x_test=pd.read_csv('test_X.csv')\n",
    "y_train=pd.read_csv('train_label.csv')\n",
    "y_test=pd.read_csv('test_label.csv')"
   ]
  },
  {
   "cell_type": "code",
   "execution_count": 5,
   "id": "13d79d32-3817-4256-8a6c-aa3539547751",
   "metadata": {},
   "outputs": [],
   "source": [
    "x_train=np.array(x_train)\n",
    "x_test=np.array(x_test)\n",
    "y_train=np.array(y_train)\n",
    "y_test=np.array(y_test)"
   ]
  },
  {
   "cell_type": "code",
   "execution_count": 6,
   "id": "785ab6b7-bc83-4070-8cba-413666fc40ee",
   "metadata": {},
   "outputs": [],
   "source": [
    "x_train=x_train.T\n",
    "x_test=x_test.T"
   ]
  },
  {
   "cell_type": "code",
   "execution_count": 7,
   "id": "49b117a1-ca3d-4662-97ed-cd6647596993",
   "metadata": {},
   "outputs": [],
   "source": [
    "y_train=y_train.T\n",
    "y_test=y_test.T"
   ]
  },
  {
   "cell_type": "code",
   "execution_count": 8,
   "id": "4ba7ce63-4ee6-4351-957a-92e45945976c",
   "metadata": {},
   "outputs": [],
   "source": [
    "y_test=y_test.argmax(axis=0)"
   ]
  },
  {
   "cell_type": "markdown",
   "id": "67b13e3c-6258-46e5-b35d-0b000c4fbbf6",
   "metadata": {},
   "source": [
    "### WRITING THE FUNCTIONS OF NEURAL NETWORK(INITIALIZE PARAMS,FORWARD PROP,BACK PROP,COST FUNC,UPDATE PARAMS )"
   ]
  },
  {
   "cell_type": "code",
   "execution_count": 9,
   "id": "8bd27046-074d-44ac-94a0-7502b7d01df0",
   "metadata": {},
   "outputs": [],
   "source": [
    "def initialize_parameters(nx,nh,ny):\n",
    "    w1=np.random.randn(nh,nx)*0.01\n",
    "    w2=np.random.randn(ny,nh)*0.01\n",
    "    b1=np.zeros(nh)\n",
    "    b1=b1.reshape(nh,1)\n",
    "    b2=np.zeros(ny)\n",
    "    b2=b2.reshape(ny,1)\n",
    "    parameters={\n",
    "        'w1':w1,\n",
    "        'w2':w2,\n",
    "        'b1':b1,\n",
    "        'b2':b2\n",
    "    }\n",
    "    return parameters"
   ]
  },
  {
   "cell_type": "code",
   "execution_count": 10,
   "id": "34117837-2f12-4581-ab60-1725760c96fd",
   "metadata": {},
   "outputs": [],
   "source": [
    "def forward_prop(parameters,x):\n",
    "    w1=parameters[f'w{1}']\n",
    "    w2=parameters['w2']\n",
    "    b1=parameters['b1']\n",
    "    b2=parameters['b2']\n",
    "    z1=np.dot(w1,x)+b1\n",
    "    a1=tanh(z1)\n",
    "    z2=np.dot(w2,a1)+b2\n",
    "    a2=softmax(z2)\n",
    "    answ={\n",
    "        'z1':z1,\n",
    "        'z2':z2,\n",
    "        'a1':a1,\n",
    "        'a2':a2\n",
    "    }\n",
    "    return answ"
   ]
  },
  {
   "cell_type": "markdown",
   "id": "3b64e380-30a9-4c84-a0ef-af04246e96d6",
   "metadata": {},
   "source": [
    "##### AS IT IS A DIGIT RECOGNIZER SO USING SOFTMAX FOR MULTICLASS CLASSIFICATION"
   ]
  },
  {
   "cell_type": "code",
   "execution_count": 11,
   "id": "d1ddc316-71be-4249-b3b4-defc2a969626",
   "metadata": {},
   "outputs": [],
   "source": [
    "def softmax(z):\n",
    "    z1=np.exp(z)\n",
    "    sum=np.sum(z1,axis=0)\n",
    "    return z1/sum\n",
    "\n",
    "def tanh(z):\n",
    "    return np.tanh(z)"
   ]
  },
  {
   "cell_type": "code",
   "execution_count": 12,
   "id": "9628d76d-c825-4c2c-88e0-c59f9a026bc3",
   "metadata": {},
   "outputs": [],
   "source": [
    "def cost_function(a2,y):\n",
    "    m=y.shape[1]\n",
    "    cost=-(1/m)*np.sum(y*np.log(a2))\n",
    "    return cost\n",
    "    # y must be such it contains that its not 0 1 stc"
   ]
  },
  {
   "cell_type": "code",
   "execution_count": 13,
   "id": "b1a08010-a283-41f0-a28e-95c0cd2ffe8b",
   "metadata": {},
   "outputs": [],
   "source": [
    "def back_prop(x,y,parameters,answ):\n",
    "    w1 = parameters['w1']\n",
    "    b1 = parameters['b1']\n",
    "    w2 = parameters['w2']\n",
    "    b2 = parameters['b2']\n",
    "    a1 = answ['a1']\n",
    "    a2 = answ['a2']\n",
    "    m = x.shape[1]\n",
    "    dz2 = (a2 - y)\n",
    "    dw2 = (1/m)*np.dot(dz2, a1.T)\n",
    "    db2 = (1/m)*np.sum(dz2, axis = 1, keepdims = True)\n",
    "    \n",
    "    dz1 = (1/m)*np.dot(w2.T, dz2)*derivative_tanh(a1)\n",
    "    dw1 = (1/m)*np.dot(dz1, x.T)\n",
    "    db1 = (1/m)*np.sum(dz1, axis = 1, keepdims = True)\n",
    "    \n",
    "    gradients = {\n",
    "        \"dw1\" : dw1,\n",
    "        \"db1\" : db1,\n",
    "        \"dw2\" : dw2,\n",
    "        \"db2\" : db2\n",
    "    }\n",
    "    \n",
    "    return gradients"
   ]
  },
  {
   "cell_type": "code",
   "execution_count": 14,
   "id": "19d64c52-654a-4aba-94c8-92593c619f94",
   "metadata": {},
   "outputs": [],
   "source": [
    "def update_parameters(parameters, gradients, learning_rate):\n",
    "    \n",
    "    w1 = parameters['w1']\n",
    "    b1 = parameters['b1']\n",
    "    w2 = parameters['w2']\n",
    "    b2 = parameters['b2']\n",
    "    \n",
    "    dw1 = gradients['dw1']\n",
    "    db1 = gradients['db1']\n",
    "    dw2 = gradients['dw2']\n",
    "    db2 = gradients['db2']\n",
    "    \n",
    "    w1 = w1 - learning_rate*dw1\n",
    "    b1 = b1 - learning_rate*db1\n",
    "    w2 = w2 - learning_rate*dw2\n",
    "    b2 = b2 - learning_rate*db2\n",
    "    \n",
    "    parameters = {\n",
    "        \"w1\" : w1,\n",
    "        \"b1\" : b1,\n",
    "        \"w2\" : w2,\n",
    "        \"b2\" : b2\n",
    "    }\n",
    "    \n",
    "    return parameters"
   ]
  },
  {
   "cell_type": "markdown",
   "id": "90948ac3-0e51-455d-bca0-75dc09f4207b",
   "metadata": {},
   "source": [
    "###  FIT FUNC OF THE MODEL"
   ]
  },
  {
   "cell_type": "code",
   "execution_count": 15,
   "id": "2e16ad76-0191-4fea-9ab4-823bd3c06a7d",
   "metadata": {},
   "outputs": [],
   "source": [
    "def model(x, y, n_h, learning_rate, iterations):\n",
    "    \n",
    "    n_x = x.shape[0]\n",
    "    n_y = y.shape[0]\n",
    "    \n",
    "    cost_list = []\n",
    "    \n",
    "    parameters = initialize_parameters(n_x, n_h, n_y)\n",
    "    \n",
    "    for i in range(iterations):\n",
    "        \n",
    "        answ = forward_prop(parameters,x)\n",
    "        \n",
    "        cost = cost_function(answ['a2'], y)\n",
    "        \n",
    "        gradients = back_prop(x, y, parameters, answ)\n",
    "        \n",
    "        parameters = update_parameters(parameters, gradients, learning_rate)\n",
    "        \n",
    "        cost_list.append(cost)\n",
    "        \n",
    "        if(i%(iterations/10) == 0):\n",
    "            print(\"Cost after\", i, \"iterations is :\", cost)\n",
    "        \n",
    "    return parameters, cost_list"
   ]
  },
  {
   "cell_type": "code",
   "execution_count": 16,
   "id": "60a10e87-3099-4fb4-a21f-863dc2f133d1",
   "metadata": {},
   "outputs": [],
   "source": [
    "def derivative_tanh(x):\n",
    "    return (1 - np.power(np.tanh(x), 2))"
   ]
  },
  {
   "cell_type": "markdown",
   "id": "7ae3788c-676f-456d-ba88-32f54d42c59f",
   "metadata": {},
   "source": [
    "##### RUNNING THE MODEL"
   ]
  },
  {
   "cell_type": "code",
   "execution_count": 23,
   "id": "56beecae-27d0-49b7-a353-d09754808d62",
   "metadata": {},
   "outputs": [
    {
     "name": "stdout",
     "output_type": "stream",
     "text": [
      "Cost after 0 iterations is : 2.3079203683716134\n",
      "Cost after 100 iterations is : 0.10482350556484805\n",
      "Cost after 200 iterations is : 0.03762790386852396\n",
      "Cost after 300 iterations is : 0.02084668853635615\n",
      "Cost after 400 iterations is : 0.013597291210972263\n",
      "Cost after 500 iterations is : 0.009771846512948696\n",
      "Cost after 600 iterations is : 0.007548699332805696\n",
      "Cost after 700 iterations is : 0.006046968585690295\n",
      "Cost after 800 iterations is : 0.005117060627427108\n",
      "Cost after 900 iterations is : 0.00443115525024406\n"
     ]
    }
   ],
   "source": [
    "iterations = 1000\n",
    "n_h = 100\n",
    "learning_rate = 0.4\n",
    "Parameters, Cost_list = model(x_train, y_train, n_h,learning_rate, iterations)"
   ]
  },
  {
   "cell_type": "code",
   "execution_count": 26,
   "id": "cff2248b-595e-444c-b3db-e81c742a7dee",
   "metadata": {},
   "outputs": [],
   "source": [
    "answ = forward_prop(Parameters,x_test)"
   ]
  },
  {
   "cell_type": "code",
   "execution_count": 27,
   "id": "a7b3b871-d724-46d6-b76f-7d60f0f03293",
   "metadata": {},
   "outputs": [
    {
     "data": {
      "text/plain": [
       "83.66762177650429"
      ]
     },
     "execution_count": 27,
     "metadata": {},
     "output_type": "execute_result"
    }
   ],
   "source": [
    "np.sum(answ['a2'].argmax(axis=0)==y_test)/len(y_test)*100  #  ACCURACY ON THE TEST SET"
   ]
  }
 ],
 "metadata": {
  "kernelspec": {
   "display_name": "Python 3 (ipykernel)",
   "language": "python",
   "name": "python3"
  },
  "language_info": {
   "codemirror_mode": {
    "name": "ipython",
    "version": 3
   },
   "file_extension": ".py",
   "mimetype": "text/x-python",
   "name": "python",
   "nbconvert_exporter": "python",
   "pygments_lexer": "ipython3",
   "version": "3.12.1"
  }
 },
 "nbformat": 4,
 "nbformat_minor": 5
}
